{
  "nbformat": 4,
  "nbformat_minor": 0,
  "metadata": {
    "colab": {
      "name": "House price neural network.ipynb",
      "version": "0.3.2",
      "provenance": [],
      "collapsed_sections": [],
      "include_colab_link": true
    },
    "kernelspec": {
      "name": "python3",
      "display_name": "Python 3"
    },
    "accelerator": "GPU"
  },
  "cells": [
    {
      "cell_type": "markdown",
      "metadata": {
        "id": "view-in-github",
        "colab_type": "text"
      },
      "source": [
        "<a href=\"https://colab.research.google.com/github/skagnihotri/house_price-AITS/blob/master/House_price_neural_network.ipynb\" target=\"_parent\"><img src=\"https://colab.research.google.com/assets/colab-badge.svg\" alt=\"Open In Colab\"/></a>"
      ]
    },
    {
      "cell_type": "code",
      "metadata": {
        "id": "PgziY5BjrecZ",
        "colab_type": "code",
        "colab": {}
      },
      "source": [
        "# Libraries\n",
        "import numpy as np\n",
        "import pandas as pd\n",
        "import seaborn as sns\n",
        "import matplotlib.pyplot as plt\n",
        "%matplotlib inline"
      ],
      "execution_count": 0,
      "outputs": []
    },
    {
      "cell_type": "code",
      "metadata": {
        "id": "9szrvSGVtX63",
        "colab_type": "code",
        "outputId": "172c7437-dc48-4fd5-ba15-39caba117336",
        "colab": {
          "base_uri": "https://localhost:8080/",
          "height": 244
        }
      },
      "source": [
        "# reading dataset\n",
        "dataset = pd.read_csv('/content/train.csv')\n",
        "dataset.head()"
      ],
      "execution_count": 147,
      "outputs": [
        {
          "output_type": "execute_result",
          "data": {
            "text/html": [
              "<div>\n",
              "<style scoped>\n",
              "    .dataframe tbody tr th:only-of-type {\n",
              "        vertical-align: middle;\n",
              "    }\n",
              "\n",
              "    .dataframe tbody tr th {\n",
              "        vertical-align: top;\n",
              "    }\n",
              "\n",
              "    .dataframe thead th {\n",
              "        text-align: right;\n",
              "    }\n",
              "</style>\n",
              "<table border=\"1\" class=\"dataframe\">\n",
              "  <thead>\n",
              "    <tr style=\"text-align: right;\">\n",
              "      <th></th>\n",
              "      <th>Id</th>\n",
              "      <th>MSSubClass</th>\n",
              "      <th>MSZoning</th>\n",
              "      <th>LotFrontage</th>\n",
              "      <th>LotArea</th>\n",
              "      <th>Street</th>\n",
              "      <th>Alley</th>\n",
              "      <th>LotShape</th>\n",
              "      <th>LandContour</th>\n",
              "      <th>Utilities</th>\n",
              "      <th>LotConfig</th>\n",
              "      <th>LandSlope</th>\n",
              "      <th>Neighborhood</th>\n",
              "      <th>Condition1</th>\n",
              "      <th>Condition2</th>\n",
              "      <th>BldgType</th>\n",
              "      <th>HouseStyle</th>\n",
              "      <th>OverallQual</th>\n",
              "      <th>OverallCond</th>\n",
              "      <th>YearBuilt</th>\n",
              "      <th>YearRemodAdd</th>\n",
              "      <th>RoofStyle</th>\n",
              "      <th>RoofMatl</th>\n",
              "      <th>Exterior1st</th>\n",
              "      <th>Exterior2nd</th>\n",
              "      <th>MasVnrType</th>\n",
              "      <th>MasVnrArea</th>\n",
              "      <th>ExterQual</th>\n",
              "      <th>ExterCond</th>\n",
              "      <th>Foundation</th>\n",
              "      <th>BsmtQual</th>\n",
              "      <th>BsmtCond</th>\n",
              "      <th>BsmtExposure</th>\n",
              "      <th>BsmtFinType1</th>\n",
              "      <th>BsmtFinSF1</th>\n",
              "      <th>BsmtFinType2</th>\n",
              "      <th>BsmtFinSF2</th>\n",
              "      <th>BsmtUnfSF</th>\n",
              "      <th>TotalBsmtSF</th>\n",
              "      <th>Heating</th>\n",
              "      <th>...</th>\n",
              "      <th>CentralAir</th>\n",
              "      <th>Electrical</th>\n",
              "      <th>1stFlrSF</th>\n",
              "      <th>2ndFlrSF</th>\n",
              "      <th>LowQualFinSF</th>\n",
              "      <th>GrLivArea</th>\n",
              "      <th>BsmtFullBath</th>\n",
              "      <th>BsmtHalfBath</th>\n",
              "      <th>FullBath</th>\n",
              "      <th>HalfBath</th>\n",
              "      <th>BedroomAbvGr</th>\n",
              "      <th>KitchenAbvGr</th>\n",
              "      <th>KitchenQual</th>\n",
              "      <th>TotRmsAbvGrd</th>\n",
              "      <th>Functional</th>\n",
              "      <th>Fireplaces</th>\n",
              "      <th>FireplaceQu</th>\n",
              "      <th>GarageType</th>\n",
              "      <th>GarageYrBlt</th>\n",
              "      <th>GarageFinish</th>\n",
              "      <th>GarageCars</th>\n",
              "      <th>GarageArea</th>\n",
              "      <th>GarageQual</th>\n",
              "      <th>GarageCond</th>\n",
              "      <th>PavedDrive</th>\n",
              "      <th>WoodDeckSF</th>\n",
              "      <th>OpenPorchSF</th>\n",
              "      <th>EnclosedPorch</th>\n",
              "      <th>3SsnPorch</th>\n",
              "      <th>ScreenPorch</th>\n",
              "      <th>PoolArea</th>\n",
              "      <th>PoolQC</th>\n",
              "      <th>Fence</th>\n",
              "      <th>MiscFeature</th>\n",
              "      <th>MiscVal</th>\n",
              "      <th>MoSold</th>\n",
              "      <th>YrSold</th>\n",
              "      <th>SaleType</th>\n",
              "      <th>SaleCondition</th>\n",
              "      <th>SalePrice</th>\n",
              "    </tr>\n",
              "  </thead>\n",
              "  <tbody>\n",
              "    <tr>\n",
              "      <th>0</th>\n",
              "      <td>1</td>\n",
              "      <td>60</td>\n",
              "      <td>RL</td>\n",
              "      <td>65.0</td>\n",
              "      <td>8450</td>\n",
              "      <td>Pave</td>\n",
              "      <td>NaN</td>\n",
              "      <td>Reg</td>\n",
              "      <td>Lvl</td>\n",
              "      <td>AllPub</td>\n",
              "      <td>Inside</td>\n",
              "      <td>Gtl</td>\n",
              "      <td>CollgCr</td>\n",
              "      <td>Norm</td>\n",
              "      <td>Norm</td>\n",
              "      <td>1Fam</td>\n",
              "      <td>2Story</td>\n",
              "      <td>7</td>\n",
              "      <td>5</td>\n",
              "      <td>2003</td>\n",
              "      <td>2003</td>\n",
              "      <td>Gable</td>\n",
              "      <td>CompShg</td>\n",
              "      <td>VinylSd</td>\n",
              "      <td>VinylSd</td>\n",
              "      <td>BrkFace</td>\n",
              "      <td>196.0</td>\n",
              "      <td>Gd</td>\n",
              "      <td>TA</td>\n",
              "      <td>PConc</td>\n",
              "      <td>Gd</td>\n",
              "      <td>TA</td>\n",
              "      <td>No</td>\n",
              "      <td>GLQ</td>\n",
              "      <td>706</td>\n",
              "      <td>Unf</td>\n",
              "      <td>0</td>\n",
              "      <td>150</td>\n",
              "      <td>856</td>\n",
              "      <td>GasA</td>\n",
              "      <td>...</td>\n",
              "      <td>Y</td>\n",
              "      <td>SBrkr</td>\n",
              "      <td>856</td>\n",
              "      <td>854</td>\n",
              "      <td>0</td>\n",
              "      <td>1710</td>\n",
              "      <td>1</td>\n",
              "      <td>0</td>\n",
              "      <td>2</td>\n",
              "      <td>1</td>\n",
              "      <td>3</td>\n",
              "      <td>1</td>\n",
              "      <td>Gd</td>\n",
              "      <td>8</td>\n",
              "      <td>Typ</td>\n",
              "      <td>0</td>\n",
              "      <td>NaN</td>\n",
              "      <td>Attchd</td>\n",
              "      <td>2003.0</td>\n",
              "      <td>RFn</td>\n",
              "      <td>2</td>\n",
              "      <td>548</td>\n",
              "      <td>TA</td>\n",
              "      <td>TA</td>\n",
              "      <td>Y</td>\n",
              "      <td>0</td>\n",
              "      <td>61</td>\n",
              "      <td>0</td>\n",
              "      <td>0</td>\n",
              "      <td>0</td>\n",
              "      <td>0</td>\n",
              "      <td>NaN</td>\n",
              "      <td>NaN</td>\n",
              "      <td>NaN</td>\n",
              "      <td>0</td>\n",
              "      <td>2</td>\n",
              "      <td>2008</td>\n",
              "      <td>WD</td>\n",
              "      <td>Normal</td>\n",
              "      <td>208500</td>\n",
              "    </tr>\n",
              "    <tr>\n",
              "      <th>1</th>\n",
              "      <td>2</td>\n",
              "      <td>20</td>\n",
              "      <td>RL</td>\n",
              "      <td>80.0</td>\n",
              "      <td>9600</td>\n",
              "      <td>Pave</td>\n",
              "      <td>NaN</td>\n",
              "      <td>Reg</td>\n",
              "      <td>Lvl</td>\n",
              "      <td>AllPub</td>\n",
              "      <td>FR2</td>\n",
              "      <td>Gtl</td>\n",
              "      <td>Veenker</td>\n",
              "      <td>Feedr</td>\n",
              "      <td>Norm</td>\n",
              "      <td>1Fam</td>\n",
              "      <td>1Story</td>\n",
              "      <td>6</td>\n",
              "      <td>8</td>\n",
              "      <td>1976</td>\n",
              "      <td>1976</td>\n",
              "      <td>Gable</td>\n",
              "      <td>CompShg</td>\n",
              "      <td>MetalSd</td>\n",
              "      <td>MetalSd</td>\n",
              "      <td>None</td>\n",
              "      <td>0.0</td>\n",
              "      <td>TA</td>\n",
              "      <td>TA</td>\n",
              "      <td>CBlock</td>\n",
              "      <td>Gd</td>\n",
              "      <td>TA</td>\n",
              "      <td>Gd</td>\n",
              "      <td>ALQ</td>\n",
              "      <td>978</td>\n",
              "      <td>Unf</td>\n",
              "      <td>0</td>\n",
              "      <td>284</td>\n",
              "      <td>1262</td>\n",
              "      <td>GasA</td>\n",
              "      <td>...</td>\n",
              "      <td>Y</td>\n",
              "      <td>SBrkr</td>\n",
              "      <td>1262</td>\n",
              "      <td>0</td>\n",
              "      <td>0</td>\n",
              "      <td>1262</td>\n",
              "      <td>0</td>\n",
              "      <td>1</td>\n",
              "      <td>2</td>\n",
              "      <td>0</td>\n",
              "      <td>3</td>\n",
              "      <td>1</td>\n",
              "      <td>TA</td>\n",
              "      <td>6</td>\n",
              "      <td>Typ</td>\n",
              "      <td>1</td>\n",
              "      <td>TA</td>\n",
              "      <td>Attchd</td>\n",
              "      <td>1976.0</td>\n",
              "      <td>RFn</td>\n",
              "      <td>2</td>\n",
              "      <td>460</td>\n",
              "      <td>TA</td>\n",
              "      <td>TA</td>\n",
              "      <td>Y</td>\n",
              "      <td>298</td>\n",
              "      <td>0</td>\n",
              "      <td>0</td>\n",
              "      <td>0</td>\n",
              "      <td>0</td>\n",
              "      <td>0</td>\n",
              "      <td>NaN</td>\n",
              "      <td>NaN</td>\n",
              "      <td>NaN</td>\n",
              "      <td>0</td>\n",
              "      <td>5</td>\n",
              "      <td>2007</td>\n",
              "      <td>WD</td>\n",
              "      <td>Normal</td>\n",
              "      <td>181500</td>\n",
              "    </tr>\n",
              "    <tr>\n",
              "      <th>2</th>\n",
              "      <td>3</td>\n",
              "      <td>60</td>\n",
              "      <td>RL</td>\n",
              "      <td>68.0</td>\n",
              "      <td>11250</td>\n",
              "      <td>Pave</td>\n",
              "      <td>NaN</td>\n",
              "      <td>IR1</td>\n",
              "      <td>Lvl</td>\n",
              "      <td>AllPub</td>\n",
              "      <td>Inside</td>\n",
              "      <td>Gtl</td>\n",
              "      <td>CollgCr</td>\n",
              "      <td>Norm</td>\n",
              "      <td>Norm</td>\n",
              "      <td>1Fam</td>\n",
              "      <td>2Story</td>\n",
              "      <td>7</td>\n",
              "      <td>5</td>\n",
              "      <td>2001</td>\n",
              "      <td>2002</td>\n",
              "      <td>Gable</td>\n",
              "      <td>CompShg</td>\n",
              "      <td>VinylSd</td>\n",
              "      <td>VinylSd</td>\n",
              "      <td>BrkFace</td>\n",
              "      <td>162.0</td>\n",
              "      <td>Gd</td>\n",
              "      <td>TA</td>\n",
              "      <td>PConc</td>\n",
              "      <td>Gd</td>\n",
              "      <td>TA</td>\n",
              "      <td>Mn</td>\n",
              "      <td>GLQ</td>\n",
              "      <td>486</td>\n",
              "      <td>Unf</td>\n",
              "      <td>0</td>\n",
              "      <td>434</td>\n",
              "      <td>920</td>\n",
              "      <td>GasA</td>\n",
              "      <td>...</td>\n",
              "      <td>Y</td>\n",
              "      <td>SBrkr</td>\n",
              "      <td>920</td>\n",
              "      <td>866</td>\n",
              "      <td>0</td>\n",
              "      <td>1786</td>\n",
              "      <td>1</td>\n",
              "      <td>0</td>\n",
              "      <td>2</td>\n",
              "      <td>1</td>\n",
              "      <td>3</td>\n",
              "      <td>1</td>\n",
              "      <td>Gd</td>\n",
              "      <td>6</td>\n",
              "      <td>Typ</td>\n",
              "      <td>1</td>\n",
              "      <td>TA</td>\n",
              "      <td>Attchd</td>\n",
              "      <td>2001.0</td>\n",
              "      <td>RFn</td>\n",
              "      <td>2</td>\n",
              "      <td>608</td>\n",
              "      <td>TA</td>\n",
              "      <td>TA</td>\n",
              "      <td>Y</td>\n",
              "      <td>0</td>\n",
              "      <td>42</td>\n",
              "      <td>0</td>\n",
              "      <td>0</td>\n",
              "      <td>0</td>\n",
              "      <td>0</td>\n",
              "      <td>NaN</td>\n",
              "      <td>NaN</td>\n",
              "      <td>NaN</td>\n",
              "      <td>0</td>\n",
              "      <td>9</td>\n",
              "      <td>2008</td>\n",
              "      <td>WD</td>\n",
              "      <td>Normal</td>\n",
              "      <td>223500</td>\n",
              "    </tr>\n",
              "    <tr>\n",
              "      <th>3</th>\n",
              "      <td>4</td>\n",
              "      <td>70</td>\n",
              "      <td>RL</td>\n",
              "      <td>60.0</td>\n",
              "      <td>9550</td>\n",
              "      <td>Pave</td>\n",
              "      <td>NaN</td>\n",
              "      <td>IR1</td>\n",
              "      <td>Lvl</td>\n",
              "      <td>AllPub</td>\n",
              "      <td>Corner</td>\n",
              "      <td>Gtl</td>\n",
              "      <td>Crawfor</td>\n",
              "      <td>Norm</td>\n",
              "      <td>Norm</td>\n",
              "      <td>1Fam</td>\n",
              "      <td>2Story</td>\n",
              "      <td>7</td>\n",
              "      <td>5</td>\n",
              "      <td>1915</td>\n",
              "      <td>1970</td>\n",
              "      <td>Gable</td>\n",
              "      <td>CompShg</td>\n",
              "      <td>Wd Sdng</td>\n",
              "      <td>Wd Shng</td>\n",
              "      <td>None</td>\n",
              "      <td>0.0</td>\n",
              "      <td>TA</td>\n",
              "      <td>TA</td>\n",
              "      <td>BrkTil</td>\n",
              "      <td>TA</td>\n",
              "      <td>Gd</td>\n",
              "      <td>No</td>\n",
              "      <td>ALQ</td>\n",
              "      <td>216</td>\n",
              "      <td>Unf</td>\n",
              "      <td>0</td>\n",
              "      <td>540</td>\n",
              "      <td>756</td>\n",
              "      <td>GasA</td>\n",
              "      <td>...</td>\n",
              "      <td>Y</td>\n",
              "      <td>SBrkr</td>\n",
              "      <td>961</td>\n",
              "      <td>756</td>\n",
              "      <td>0</td>\n",
              "      <td>1717</td>\n",
              "      <td>1</td>\n",
              "      <td>0</td>\n",
              "      <td>1</td>\n",
              "      <td>0</td>\n",
              "      <td>3</td>\n",
              "      <td>1</td>\n",
              "      <td>Gd</td>\n",
              "      <td>7</td>\n",
              "      <td>Typ</td>\n",
              "      <td>1</td>\n",
              "      <td>Gd</td>\n",
              "      <td>Detchd</td>\n",
              "      <td>1998.0</td>\n",
              "      <td>Unf</td>\n",
              "      <td>3</td>\n",
              "      <td>642</td>\n",
              "      <td>TA</td>\n",
              "      <td>TA</td>\n",
              "      <td>Y</td>\n",
              "      <td>0</td>\n",
              "      <td>35</td>\n",
              "      <td>272</td>\n",
              "      <td>0</td>\n",
              "      <td>0</td>\n",
              "      <td>0</td>\n",
              "      <td>NaN</td>\n",
              "      <td>NaN</td>\n",
              "      <td>NaN</td>\n",
              "      <td>0</td>\n",
              "      <td>2</td>\n",
              "      <td>2006</td>\n",
              "      <td>WD</td>\n",
              "      <td>Abnorml</td>\n",
              "      <td>140000</td>\n",
              "    </tr>\n",
              "    <tr>\n",
              "      <th>4</th>\n",
              "      <td>5</td>\n",
              "      <td>60</td>\n",
              "      <td>RL</td>\n",
              "      <td>84.0</td>\n",
              "      <td>14260</td>\n",
              "      <td>Pave</td>\n",
              "      <td>NaN</td>\n",
              "      <td>IR1</td>\n",
              "      <td>Lvl</td>\n",
              "      <td>AllPub</td>\n",
              "      <td>FR2</td>\n",
              "      <td>Gtl</td>\n",
              "      <td>NoRidge</td>\n",
              "      <td>Norm</td>\n",
              "      <td>Norm</td>\n",
              "      <td>1Fam</td>\n",
              "      <td>2Story</td>\n",
              "      <td>8</td>\n",
              "      <td>5</td>\n",
              "      <td>2000</td>\n",
              "      <td>2000</td>\n",
              "      <td>Gable</td>\n",
              "      <td>CompShg</td>\n",
              "      <td>VinylSd</td>\n",
              "      <td>VinylSd</td>\n",
              "      <td>BrkFace</td>\n",
              "      <td>350.0</td>\n",
              "      <td>Gd</td>\n",
              "      <td>TA</td>\n",
              "      <td>PConc</td>\n",
              "      <td>Gd</td>\n",
              "      <td>TA</td>\n",
              "      <td>Av</td>\n",
              "      <td>GLQ</td>\n",
              "      <td>655</td>\n",
              "      <td>Unf</td>\n",
              "      <td>0</td>\n",
              "      <td>490</td>\n",
              "      <td>1145</td>\n",
              "      <td>GasA</td>\n",
              "      <td>...</td>\n",
              "      <td>Y</td>\n",
              "      <td>SBrkr</td>\n",
              "      <td>1145</td>\n",
              "      <td>1053</td>\n",
              "      <td>0</td>\n",
              "      <td>2198</td>\n",
              "      <td>1</td>\n",
              "      <td>0</td>\n",
              "      <td>2</td>\n",
              "      <td>1</td>\n",
              "      <td>4</td>\n",
              "      <td>1</td>\n",
              "      <td>Gd</td>\n",
              "      <td>9</td>\n",
              "      <td>Typ</td>\n",
              "      <td>1</td>\n",
              "      <td>TA</td>\n",
              "      <td>Attchd</td>\n",
              "      <td>2000.0</td>\n",
              "      <td>RFn</td>\n",
              "      <td>3</td>\n",
              "      <td>836</td>\n",
              "      <td>TA</td>\n",
              "      <td>TA</td>\n",
              "      <td>Y</td>\n",
              "      <td>192</td>\n",
              "      <td>84</td>\n",
              "      <td>0</td>\n",
              "      <td>0</td>\n",
              "      <td>0</td>\n",
              "      <td>0</td>\n",
              "      <td>NaN</td>\n",
              "      <td>NaN</td>\n",
              "      <td>NaN</td>\n",
              "      <td>0</td>\n",
              "      <td>12</td>\n",
              "      <td>2008</td>\n",
              "      <td>WD</td>\n",
              "      <td>Normal</td>\n",
              "      <td>250000</td>\n",
              "    </tr>\n",
              "  </tbody>\n",
              "</table>\n",
              "<p>5 rows × 81 columns</p>\n",
              "</div>"
            ],
            "text/plain": [
              "   Id  MSSubClass MSZoning  ...  SaleType  SaleCondition SalePrice\n",
              "0   1          60       RL  ...        WD         Normal    208500\n",
              "1   2          20       RL  ...        WD         Normal    181500\n",
              "2   3          60       RL  ...        WD         Normal    223500\n",
              "3   4          70       RL  ...        WD        Abnorml    140000\n",
              "4   5          60       RL  ...        WD         Normal    250000\n",
              "\n",
              "[5 rows x 81 columns]"
            ]
          },
          "metadata": {
            "tags": []
          },
          "execution_count": 147
        }
      ]
    },
    {
      "cell_type": "markdown",
      "metadata": {
        "id": "OAEHzg9XvSEH",
        "colab_type": "text"
      },
      "source": [
        "# ***Data Preprocessing***"
      ]
    },
    {
      "cell_type": "code",
      "metadata": {
        "id": "2Yqepb2Jtbsm",
        "colab_type": "code",
        "outputId": "6b2e84cc-3c5c-4363-c28a-6885d67e7665",
        "colab": {
          "base_uri": "https://localhost:8080/",
          "height": 1000
        }
      },
      "source": [
        "dataset.isnull().sum()"
      ],
      "execution_count": 148,
      "outputs": [
        {
          "output_type": "execute_result",
          "data": {
            "text/plain": [
              "Id                  0\n",
              "MSSubClass          0\n",
              "MSZoning            0\n",
              "LotFrontage       259\n",
              "LotArea             0\n",
              "Street              0\n",
              "Alley            1369\n",
              "LotShape            0\n",
              "LandContour         0\n",
              "Utilities           0\n",
              "LotConfig           0\n",
              "LandSlope           0\n",
              "Neighborhood        0\n",
              "Condition1          0\n",
              "Condition2          0\n",
              "BldgType            0\n",
              "HouseStyle          0\n",
              "OverallQual         0\n",
              "OverallCond         0\n",
              "YearBuilt           0\n",
              "YearRemodAdd        0\n",
              "RoofStyle           0\n",
              "RoofMatl            0\n",
              "Exterior1st         0\n",
              "Exterior2nd         0\n",
              "MasVnrType          8\n",
              "MasVnrArea          8\n",
              "ExterQual           0\n",
              "ExterCond           0\n",
              "Foundation          0\n",
              "                 ... \n",
              "BedroomAbvGr        0\n",
              "KitchenAbvGr        0\n",
              "KitchenQual         0\n",
              "TotRmsAbvGrd        0\n",
              "Functional          0\n",
              "Fireplaces          0\n",
              "FireplaceQu       690\n",
              "GarageType         81\n",
              "GarageYrBlt        81\n",
              "GarageFinish       81\n",
              "GarageCars          0\n",
              "GarageArea          0\n",
              "GarageQual         81\n",
              "GarageCond         81\n",
              "PavedDrive          0\n",
              "WoodDeckSF          0\n",
              "OpenPorchSF         0\n",
              "EnclosedPorch       0\n",
              "3SsnPorch           0\n",
              "ScreenPorch         0\n",
              "PoolArea            0\n",
              "PoolQC           1453\n",
              "Fence            1179\n",
              "MiscFeature      1406\n",
              "MiscVal             0\n",
              "MoSold              0\n",
              "YrSold              0\n",
              "SaleType            0\n",
              "SaleCondition       0\n",
              "SalePrice           0\n",
              "Length: 81, dtype: int64"
            ]
          },
          "metadata": {
            "tags": []
          },
          "execution_count": 148
        }
      ]
    },
    {
      "cell_type": "code",
      "metadata": {
        "id": "J5Px-XccthGR",
        "colab_type": "code",
        "colab": {}
      },
      "source": [
        "categorical_col = ['MSZoning', 'Street', 'LotShape', 'LandContour', 'Utilities', 'LotConfig', 'LandSlope', 'Neighborhood',\n",
        "                      'Condition1', 'Condition2', 'BldgType', 'HouseStyle', 'OverallQual', 'OverallCond', 'RoofStyle', 'RoofMatl', \n",
        "                       'Exterior1st', 'Exterior2nd', 'MasVnrType', 'ExterQual', 'ExterCond', 'Foundation', 'BsmtQual', 'BsmtCond', \n",
        "                       'BsmtExposure', 'BsmtFinType1', 'BsmtFinType2', 'Heating', 'HeatingQC', 'CentralAir', 'Electrical', 'KitchenQual',\n",
        "                       'Functional', 'GarageType', 'GarageFinish', 'GarageQual', 'GarageCond', 'PavedDrive', 'SaleType', 'SaleCondition']\n",
        "\n",
        "drop_col = ['Alley', 'PoolQC', 'Fence', 'MiscFeature', 'FireplaceQu', 'MoSold', 'YrSold', 'YearBuilt', 'YearRemodAdd', \n",
        "            'Id', 'SalePrice', 'GarageYrBlt']\n",
        "\n",
        "drop_final = drop_col + categorical_col"
      ],
      "execution_count": 0,
      "outputs": []
    },
    {
      "cell_type": "code",
      "metadata": {
        "id": "C6cQRN0ftnTn",
        "colab_type": "code",
        "colab": {}
      },
      "source": [
        "#modifing features\n",
        "dataset['AGE'] = 2019 - dataset['YearRemodAdd']\n",
        "dataset['AGE_garage'] = 2019 - dataset['GarageYrBlt']"
      ],
      "execution_count": 0,
      "outputs": []
    },
    {
      "cell_type": "code",
      "metadata": {
        "id": "AAgT-W2Ltv_8",
        "colab_type": "code",
        "outputId": "4674d4b0-3e85-4c6f-cd98-51ae059a19b7",
        "colab": {
          "base_uri": "https://localhost:8080/",
          "height": 34
        }
      },
      "source": [
        "#filling and droping nan\n",
        "dataset['MasVnrType'] = dataset['MasVnrType'].fillna(value = \"None\")\n",
        "dataset['BsmtExposure'] = dataset['BsmtExposure'].fillna(value = \"NA\")\n",
        "dataset['BsmtFinType2'] = dataset['BsmtFinType2'].fillna(value = \"NA\")\n",
        "dataset['Electrical'] = dataset['Electrical'].fillna(value = \"SBrkr\")\n",
        "dataset['LotFrontage'] = dataset['LotFrontage'].fillna(value = dataset['LotFrontage'].mean())\n",
        "dataset['MasVnrArea'] = dataset['MasVnrArea'].fillna(value = dataset['MasVnrArea'].mean())\n",
        "\n",
        "dataset.dropna(subset = ['BsmtQual'], inplace= True)\n",
        "dataset.dropna(subset = ['GarageType'], inplace= True)\n",
        "dataset.shape"
      ],
      "execution_count": 151,
      "outputs": [
        {
          "output_type": "execute_result",
          "data": {
            "text/plain": [
              "(1349, 83)"
            ]
          },
          "metadata": {
            "tags": []
          },
          "execution_count": 151
        }
      ]
    },
    {
      "cell_type": "code",
      "metadata": {
        "id": "LWOb1OLIt0ko",
        "colab_type": "code",
        "outputId": "3f0d581f-5863-4901-8855-d3a6ba58fd4c",
        "colab": {
          "base_uri": "https://localhost:8080/",
          "height": 34
        }
      },
      "source": [
        "#seperating categorical features\n",
        "df_cat = dataset[categorical_col].copy()\n",
        "df = dataset.copy()\n",
        "y = dataset.SalePrice\n",
        "df.drop(drop_final, inplace = True, axis = 1)\n",
        "df = df.reset_index(drop=True)\n",
        "df.shape"
      ],
      "execution_count": 152,
      "outputs": [
        {
          "output_type": "execute_result",
          "data": {
            "text/plain": [
              "(1349, 31)"
            ]
          },
          "metadata": {
            "tags": []
          },
          "execution_count": 152
        }
      ]
    },
    {
      "cell_type": "code",
      "metadata": {
        "id": "nQ7xJM-It82N",
        "colab_type": "code",
        "outputId": "969815c2-6b95-4766-e462-a9005124613e",
        "colab": {
          "base_uri": "https://localhost:8080/",
          "height": 34
        }
      },
      "source": [
        "# one hot encoding\n",
        "from sklearn.preprocessing import OneHotEncoder\n",
        "onehot = OneHotEncoder(drop = 'first')\n",
        "X_onehot = onehot.fit_transform(df_cat).toarray()\n",
        "X_onehot = pd.DataFrame(X_onehot)\n",
        "X_onehot.shape"
      ],
      "execution_count": 153,
      "outputs": [
        {
          "output_type": "execute_result",
          "data": {
            "text/plain": [
              "(1349, 208)"
            ]
          },
          "metadata": {
            "tags": []
          },
          "execution_count": 153
        }
      ]
    },
    {
      "cell_type": "code",
      "metadata": {
        "id": "ASe7EgOGuBTt",
        "colab_type": "code",
        "outputId": "b176ae81-18a8-4446-c45b-40194cfc6c3e",
        "colab": {
          "base_uri": "https://localhost:8080/",
          "height": 34
        }
      },
      "source": [
        "# final features\n",
        "X = pd.concat([df, X_onehot], axis = 1)\n",
        "X = X.values\n",
        "X.shape"
      ],
      "execution_count": 154,
      "outputs": [
        {
          "output_type": "execute_result",
          "data": {
            "text/plain": [
              "(1349, 239)"
            ]
          },
          "metadata": {
            "tags": []
          },
          "execution_count": 154
        }
      ]
    },
    {
      "cell_type": "code",
      "metadata": {
        "id": "xBWkv-XjuF9o",
        "colab_type": "code",
        "colab": {}
      },
      "source": [
        "# feature scaling\n",
        "from sklearn.preprocessing import StandardScaler\n",
        "scaler_X = StandardScaler()\n",
        "X = scaler_X.fit_transform(X)"
      ],
      "execution_count": 0,
      "outputs": []
    },
    {
      "cell_type": "code",
      "metadata": {
        "id": "n7C-_mDduK38",
        "colab_type": "code",
        "colab": {
          "base_uri": "https://localhost:8080/",
          "height": 34
        },
        "outputId": "6d26b862-ee3f-4639-9165-1e378d5d0c7e"
      },
      "source": [
        "# spliting the dataset\n",
        "from sklearn.model_selection import train_test_split\n",
        "X_train, X_test, y_train, y_test = train_test_split(X, y, test_size= 0.2)\n",
        "X_train.shape"
      ],
      "execution_count": 156,
      "outputs": [
        {
          "output_type": "execute_result",
          "data": {
            "text/plain": [
              "(1079, 239)"
            ]
          },
          "metadata": {
            "tags": []
          },
          "execution_count": 156
        }
      ]
    },
    {
      "cell_type": "markdown",
      "metadata": {
        "id": "d7luAb8PubZw",
        "colab_type": "text"
      },
      "source": [
        "# ***3 Layer Neural Network***"
      ]
    },
    {
      "cell_type": "code",
      "metadata": {
        "id": "SVqosGBWuRPk",
        "colab_type": "code",
        "colab": {}
      },
      "source": [
        "import keras\n",
        "from keras.models import Sequential\n",
        "from keras.layers import Dense, Dropout\n",
        "import keras.backend as k"
      ],
      "execution_count": 0,
      "outputs": []
    },
    {
      "cell_type": "code",
      "metadata": {
        "id": "HqCq0uAM1EW2",
        "colab_type": "code",
        "colab": {}
      },
      "source": [
        "def score(y_true, y_pred):\n",
        "    mean_true = k.mean(y_true)\n",
        "    u = k.sum(k.square(y_pred - y_true))\n",
        "    v = k.sum(k.square(y_true - mean_true))\n",
        "    return (1 - u/v)"
      ],
      "execution_count": 0,
      "outputs": []
    },
    {
      "cell_type": "code",
      "metadata": {
        "id": "blEdaLI1196w",
        "colab_type": "code",
        "colab": {}
      },
      "source": [
        "model = Sequential()"
      ],
      "execution_count": 0,
      "outputs": []
    },
    {
      "cell_type": "code",
      "metadata": {
        "id": "Zrm31-iG26xf",
        "colab_type": "code",
        "colab": {}
      },
      "source": [
        "model.add(Dense(units= 2048, activation= 'relu', input_shape= (239, )))\n",
        "model.add(Dropout(rate = 0.5))\n",
        "model.add(Dense(units= 2048, activation= 'relu'))\n",
        "model.add(Dropout(rate = 0.5))\n",
        "model.add(Dense(units= 2048, activation= 'relu'))\n",
        "model.add(Dropout(rate = 0.5))\n",
        "\n",
        "\n",
        "# Output Layer\n",
        "model.add(Dense(units= 1, activation= 'linear'))"
      ],
      "execution_count": 0,
      "outputs": []
    },
    {
      "cell_type": "code",
      "metadata": {
        "id": "JtsvnEUM4GTr",
        "colab_type": "code",
        "colab": {}
      },
      "source": [
        "model.compile(optimizer= keras.optimizers.RMSprop(), \n",
        "              loss= 'mean_squared_error', \n",
        "              metrics= [score])"
      ],
      "execution_count": 0,
      "outputs": []
    },
    {
      "cell_type": "code",
      "metadata": {
        "id": "0qoyooVN-oGV",
        "colab_type": "code",
        "colab": {
          "base_uri": "https://localhost:8080/",
          "height": 1000
        },
        "outputId": "985cfb66-9bb5-446d-b318-e3106302bd4d"
      },
      "source": [
        "history = model.fit(X_train, y_train, \n",
        "                    batch_size= 32, \n",
        "                    epochs= 150, \n",
        "                    validation_data = (X_test, y_test))"
      ],
      "execution_count": 347,
      "outputs": [
        {
          "output_type": "stream",
          "text": [
            "Train on 1079 samples, validate on 270 samples\n",
            "Epoch 1/150\n",
            "1079/1079 [==============================] - 5s 5ms/step - loss: 19368734730.9138 - score: -2.6076 - val_loss: 5690482255.6444 - val_score: -0.0029\n",
            "Epoch 2/150\n",
            "1079/1079 [==============================] - 1s 509us/step - loss: 3384180179.2771 - score: 0.3657 - val_loss: 3756101461.3333 - val_score: 0.3585\n",
            "Epoch 3/150\n",
            "1079/1079 [==============================] - 1s 475us/step - loss: 2182914475.4180 - score: 0.5996 - val_loss: 3311269065.0074 - val_score: 0.4445\n",
            "Epoch 4/150\n",
            "1079/1079 [==============================] - 1s 483us/step - loss: 1802937228.9305 - score: 0.6438 - val_loss: 2771554087.8222 - val_score: 0.5220\n",
            "Epoch 5/150\n",
            "1079/1079 [==============================] - 1s 479us/step - loss: 1386870321.9722 - score: 0.7246 - val_loss: 2655075790.6963 - val_score: 0.5582\n",
            "Epoch 6/150\n",
            "1079/1079 [==============================] - 1s 481us/step - loss: 1056742788.5079 - score: 0.8218 - val_loss: 2284622984.5333 - val_score: 0.6176\n",
            "Epoch 7/150\n",
            "1079/1079 [==============================] - 1s 475us/step - loss: 1047128135.4143 - score: 0.8139 - val_loss: 2311115125.5704 - val_score: 0.6114\n",
            "Epoch 8/150\n",
            "1079/1079 [==============================] - 1s 483us/step - loss: 989667158.8953 - score: 0.8196 - val_loss: 2106090814.5778 - val_score: 0.6471\n",
            "Epoch 9/150\n",
            "1079/1079 [==============================] - 1s 474us/step - loss: 699766816.1483 - score: 0.8698 - val_loss: 2026577328.3556 - val_score: 0.6680\n",
            "Epoch 10/150\n",
            "1079/1079 [==============================] - 1s 484us/step - loss: 682591755.5366 - score: 0.8819 - val_loss: 1756107755.1407 - val_score: 0.7049\n",
            "Epoch 11/150\n",
            "1079/1079 [==============================] - 1s 479us/step - loss: 630032776.6599 - score: 0.8576 - val_loss: 1791641484.3259 - val_score: 0.7041\n",
            "Epoch 12/150\n",
            "1079/1079 [==============================] - 1s 479us/step - loss: 592641357.7312 - score: 0.8972 - val_loss: 1618009012.1481 - val_score: 0.7300\n",
            "Epoch 13/150\n",
            "1079/1079 [==============================] - 1s 476us/step - loss: 580866563.7961 - score: 0.8996 - val_loss: 1942156961.1852 - val_score: 0.6912\n",
            "Epoch 14/150\n",
            "1079/1079 [==============================] - 1s 485us/step - loss: 525224370.9212 - score: 0.9019 - val_loss: 1697831304.5333 - val_score: 0.7250\n",
            "Epoch 15/150\n",
            "1079/1079 [==============================] - 1s 472us/step - loss: 476963829.3605 - score: 0.9152 - val_loss: 1803369980.2074 - val_score: 0.7145\n",
            "Epoch 16/150\n",
            "1079/1079 [==============================] - 1s 485us/step - loss: 426377809.0528 - score: 0.9144 - val_loss: 1533640429.0370 - val_score: 0.7528\n",
            "Epoch 17/150\n",
            "1079/1079 [==============================] - 1s 479us/step - loss: 440119088.4597 - score: 0.9162 - val_loss: 1897875080.5333 - val_score: 0.7047\n",
            "Epoch 18/150\n",
            "1079/1079 [==============================] - 1s 483us/step - loss: 435720410.5728 - score: 0.9189 - val_loss: 1657424687.4074 - val_score: 0.7398\n",
            "Epoch 19/150\n",
            "1079/1079 [==============================] - 1s 477us/step - loss: 377451230.0278 - score: 0.9191 - val_loss: 1594695588.9778 - val_score: 0.7431\n",
            "Epoch 20/150\n",
            "1079/1079 [==============================] - 1s 483us/step - loss: 374336673.4829 - score: 0.9233 - val_loss: 1719849001.7185 - val_score: 0.7352\n",
            "Epoch 21/150\n",
            "1079/1079 [==============================] - 1s 479us/step - loss: 359857534.0723 - score: 0.9320 - val_loss: 1823710126.4593 - val_score: 0.7322\n",
            "Epoch 22/150\n",
            "1079/1079 [==============================] - 1s 479us/step - loss: 408856688.2224 - score: 0.9183 - val_loss: 1508008016.5926 - val_score: 0.7570\n",
            "Epoch 23/150\n",
            "1079/1079 [==============================] - 1s 477us/step - loss: 382330149.4272 - score: 0.9342 - val_loss: 2142266749.1556 - val_score: 0.6760\n",
            "Epoch 24/150\n",
            "1079/1079 [==============================] - 1s 481us/step - loss: 376032804.4782 - score: 0.9281 - val_loss: 1608865481.0074 - val_score: 0.7567\n",
            "Epoch 25/150\n",
            "1079/1079 [==============================] - 1s 475us/step - loss: 357636893.7757 - score: 0.9294 - val_loss: 1552681899.6148 - val_score: 0.7631\n",
            "Epoch 26/150\n",
            "1079/1079 [==============================] - 1s 473us/step - loss: 357648927.8072 - score: 0.9336 - val_loss: 1710626525.8667 - val_score: 0.7468\n",
            "Epoch 27/150\n",
            "1079/1079 [==============================] - 1s 475us/step - loss: 331137515.8925 - score: 0.9349 - val_loss: 1497207803.2593 - val_score: 0.7694\n",
            "Epoch 28/150\n",
            "1079/1079 [==============================] - 1s 486us/step - loss: 339720574.9027 - score: 0.9345 - val_loss: 1539880650.9037 - val_score: 0.7702\n",
            "Epoch 29/150\n",
            "1079/1079 [==============================] - 1s 478us/step - loss: 293343213.3160 - score: 0.9322 - val_loss: 1704272869.4519 - val_score: 0.7462\n",
            "Epoch 30/150\n",
            "1079/1079 [==============================] - 1s 482us/step - loss: 322402269.4643 - score: 0.9376 - val_loss: 1553410849.1852 - val_score: 0.7674\n",
            "Epoch 31/150\n",
            "1079/1079 [==============================] - 1s 477us/step - loss: 310656558.2057 - score: 0.9419 - val_loss: 1968829333.8074 - val_score: 0.7063\n",
            "Epoch 32/150\n",
            "1079/1079 [==============================] - 1s 481us/step - loss: 292039707.7590 - score: 0.9422 - val_loss: 1619525652.8593 - val_score: 0.7616\n",
            "Epoch 33/150\n",
            "1079/1079 [==============================] - 1s 473us/step - loss: 337637279.2734 - score: 0.9381 - val_loss: 1617533170.7259 - val_score: 0.7589\n",
            "Epoch 34/150\n",
            "1079/1079 [==============================] - 1s 482us/step - loss: 321063601.9129 - score: 0.9399 - val_loss: 1983998737.0667 - val_score: 0.7128\n",
            "Epoch 35/150\n",
            "1079/1079 [==============================] - 1s 474us/step - loss: 306024384.4449 - score: 0.9430 - val_loss: 1588672245.5704 - val_score: 0.7681\n",
            "Epoch 36/150\n",
            "1079/1079 [==============================] - 1s 486us/step - loss: 307964514.2984 - score: 0.9379 - val_loss: 1568201362.0148 - val_score: 0.7761\n",
            "Epoch 37/150\n",
            "1079/1079 [==============================] - 1s 494us/step - loss: 313584578.6395 - score: 0.9414 - val_loss: 1492703092.6222 - val_score: 0.7851\n",
            "Epoch 38/150\n",
            "1079/1079 [==============================] - 1s 481us/step - loss: 290079856.4893 - score: 0.9436 - val_loss: 1715468434.0148 - val_score: 0.7607\n",
            "Epoch 39/150\n",
            "1079/1079 [==============================] - 1s 473us/step - loss: 308428692.4486 - score: 0.9396 - val_loss: 1402640859.0222 - val_score: 0.7979\n",
            "Epoch 40/150\n",
            "1079/1079 [==============================] - 1s 486us/step - loss: 279441429.8573 - score: 0.9455 - val_loss: 1476790795.3778 - val_score: 0.7867\n",
            "Epoch 41/150\n",
            "1079/1079 [==============================] - 1s 481us/step - loss: 328988993.0083 - score: 0.9409 - val_loss: 1671571833.3630 - val_score: 0.7648\n",
            "Epoch 42/150\n",
            "1079/1079 [==============================] - 1s 497us/step - loss: 307922517.0714 - score: 0.9410 - val_loss: 1356023064.6519 - val_score: 0.8065\n",
            "Epoch 43/150\n",
            "1079/1079 [==============================] - 1s 476us/step - loss: 274452840.3040 - score: 0.9466 - val_loss: 1492843136.0000 - val_score: 0.7710\n",
            "Epoch 44/150\n",
            "1079/1079 [==============================] - 1s 481us/step - loss: 265051431.1918 - score: 0.9463 - val_loss: 1524415080.2963 - val_score: 0.7856\n",
            "Epoch 45/150\n",
            "1079/1079 [==============================] - 1s 476us/step - loss: 297588615.5477 - score: 0.9438 - val_loss: 1320644343.4667 - val_score: 0.8092\n",
            "Epoch 46/150\n",
            "1079/1079 [==============================] - 1s 477us/step - loss: 273122035.1437 - score: 0.9505 - val_loss: 1566552905.0074 - val_score: 0.7773\n",
            "Epoch 47/150\n",
            "1079/1079 [==============================] - 1s 476us/step - loss: 292566000.7711 - score: 0.9450 - val_loss: 1457159477.0963 - val_score: 0.7929\n",
            "Epoch 48/150\n",
            "1079/1079 [==============================] - 1s 479us/step - loss: 307518327.8146 - score: 0.9427 - val_loss: 1500130803.6741 - val_score: 0.7845\n",
            "Epoch 49/150\n",
            "1079/1079 [==============================] - 1s 479us/step - loss: 285140143.8517 - score: 0.9459 - val_loss: 1414079936.4741 - val_score: 0.7977\n",
            "Epoch 50/150\n",
            "1079/1079 [==============================] - 1s 480us/step - loss: 248389922.4022 - score: 0.9514 - val_loss: 1340036746.4296 - val_score: 0.8066\n",
            "Epoch 51/150\n",
            "1079/1079 [==============================] - 1s 479us/step - loss: 272399400.9861 - score: 0.9471 - val_loss: 1442355275.8519 - val_score: 0.8004\n",
            "Epoch 52/150\n",
            "1079/1079 [==============================] - 1s 483us/step - loss: 301369124.3596 - score: 0.9390 - val_loss: 1343623991.9407 - val_score: 0.8061\n",
            "Epoch 53/150\n",
            "1079/1079 [==============================] - 1s 477us/step - loss: 305814219.8184 - score: 0.9396 - val_loss: 1745670690.1333 - val_score: 0.7631\n",
            "Epoch 54/150\n",
            "1079/1079 [==============================] - 1s 487us/step - loss: 273322920.0667 - score: 0.9491 - val_loss: 1749523964.2074 - val_score: 0.7596\n",
            "Epoch 55/150\n",
            "1079/1079 [==============================] - 1s 475us/step - loss: 277025955.2030 - score: 0.9434 - val_loss: 1428666314.9037 - val_score: 0.7951\n",
            "Epoch 56/150\n",
            "1079/1079 [==============================] - 1s 481us/step - loss: 279799904.9490 - score: 0.9495 - val_loss: 1442269086.3407 - val_score: 0.7954\n",
            "Epoch 57/150\n",
            "1079/1079 [==============================] - 1s 483us/step - loss: 281938768.4449 - score: 0.9463 - val_loss: 1583186658.6074 - val_score: 0.7859\n",
            "Epoch 58/150\n",
            "1079/1079 [==============================] - 1s 481us/step - loss: 325256636.6006 - score: 0.9374 - val_loss: 1376068023.9407 - val_score: 0.8061\n",
            "Epoch 59/150\n",
            "1079/1079 [==============================] - 1s 478us/step - loss: 246461370.0686 - score: 0.9532 - val_loss: 1491845549.5111 - val_score: 0.7959\n",
            "Epoch 60/150\n",
            "1079/1079 [==============================] - 1s 485us/step - loss: 279332215.1696 - score: 0.9486 - val_loss: 1602088790.2815 - val_score: 0.7763\n",
            "Epoch 61/150\n",
            "1079/1079 [==============================] - 1s 481us/step - loss: 276016534.1094 - score: 0.9473 - val_loss: 1390714892.3259 - val_score: 0.8043\n",
            "Epoch 62/150\n",
            "1079/1079 [==============================] - 1s 481us/step - loss: 300689996.6636 - score: 0.9421 - val_loss: 1475613258.9037 - val_score: 0.7990\n",
            "Epoch 63/150\n",
            "1079/1079 [==============================] - 1s 476us/step - loss: 283875612.7674 - score: 0.9470 - val_loss: 1519346212.0296 - val_score: 0.7926\n",
            "Epoch 64/150\n",
            "1079/1079 [==============================] - 1s 485us/step - loss: 290650305.7498 - score: 0.9470 - val_loss: 1767335224.8889 - val_score: 0.7614\n",
            "Epoch 65/150\n",
            "1079/1079 [==============================] - 1s 474us/step - loss: 263748949.5607 - score: 0.9413 - val_loss: 1528646198.0444 - val_score: 0.7956\n",
            "Epoch 66/150\n",
            "1079/1079 [==============================] - 1s 482us/step - loss: 262184277.4124 - score: 0.9499 - val_loss: 1434208299.6148 - val_score: 0.8066\n",
            "Epoch 67/150\n",
            "1079/1079 [==============================] - 1s 475us/step - loss: 233395768.3633 - score: 0.9541 - val_loss: 1615122604.5630 - val_score: 0.7836\n",
            "Epoch 68/150\n",
            "1079/1079 [==============================] - 1s 480us/step - loss: 315806309.9314 - score: 0.9396 - val_loss: 1638512354.6074 - val_score: 0.7727\n",
            "Epoch 69/150\n",
            "1079/1079 [==============================] - 1s 477us/step - loss: 269065825.6015 - score: 0.9523 - val_loss: 1360348752.5926 - val_score: 0.8064\n",
            "Epoch 70/150\n",
            "1079/1079 [==============================] - 1s 481us/step - loss: 261911025.0528 - score: 0.9520 - val_loss: 1369544530.4889 - val_score: 0.8056\n",
            "Epoch 71/150\n",
            "1079/1079 [==============================] - 1s 477us/step - loss: 275422973.1826 - score: 0.9486 - val_loss: 1308508843.1407 - val_score: 0.8126\n",
            "Epoch 72/150\n",
            "1079/1079 [==============================] - 1s 483us/step - loss: 286859825.7943 - score: 0.9463 - val_loss: 1423395432.2963 - val_score: 0.7995\n",
            "Epoch 73/150\n",
            "1079/1079 [==============================] - 1s 480us/step - loss: 299154628.7748 - score: 0.9459 - val_loss: 1422903539.6741 - val_score: 0.8063\n",
            "Epoch 74/150\n",
            "1079/1079 [==============================] - 1s 487us/step - loss: 288668830.5765 - score: 0.9455 - val_loss: 1550581403.4963 - val_score: 0.7861\n",
            "Epoch 75/150\n",
            "1079/1079 [==============================] - 1s 484us/step - loss: 264053407.6145 - score: 0.9488 - val_loss: 1339916484.2667 - val_score: 0.8141\n",
            "Epoch 76/150\n",
            "1079/1079 [==============================] - 1s 484us/step - loss: 292947071.0065 - score: 0.9446 - val_loss: 1394360661.3333 - val_score: 0.8080\n",
            "Epoch 77/150\n",
            "1079/1079 [==============================] - 1s 477us/step - loss: 235450280.5412 - score: 0.9551 - val_loss: 1397311285.0963 - val_score: 0.8087\n",
            "Epoch 78/150\n",
            "1079/1079 [==============================] - 1s 492us/step - loss: 263995980.4708 - score: 0.9509 - val_loss: 1302023916.0889 - val_score: 0.8213\n",
            "Epoch 79/150\n",
            "1079/1079 [==============================] - 1s 477us/step - loss: 256961425.1270 - score: 0.9518 - val_loss: 1354696227.0815 - val_score: 0.8142\n",
            "Epoch 80/150\n",
            "1079/1079 [==============================] - 1s 480us/step - loss: 269004031.9703 - score: 0.9478 - val_loss: 1363119265.1852 - val_score: 0.8177\n",
            "Epoch 81/150\n",
            "1079/1079 [==============================] - 1s 477us/step - loss: 278054581.5310 - score: 0.9475 - val_loss: 1389977743.1704 - val_score: 0.8101\n",
            "Epoch 82/150\n",
            "1079/1079 [==============================] - 1s 483us/step - loss: 240433052.0111 - score: 0.9514 - val_loss: 1497702235.9704 - val_score: 0.7979\n",
            "Epoch 83/150\n",
            "1079/1079 [==============================] - 1s 475us/step - loss: 261000928.4004 - score: 0.9500 - val_loss: 1497666640.5926 - val_score: 0.7981\n",
            "Epoch 84/150\n",
            "1079/1079 [==============================] - 1s 483us/step - loss: 232747718.3614 - score: 0.9583 - val_loss: 1541818627.7926 - val_score: 0.7927\n",
            "Epoch 85/150\n",
            "1079/1079 [==============================] - 1s 474us/step - loss: 224684124.7748 - score: 0.9560 - val_loss: 1587823856.8296 - val_score: 0.7774\n",
            "Epoch 86/150\n",
            "1079/1079 [==============================] - 1s 489us/step - loss: 261579122.6395 - score: 0.9528 - val_loss: 1395120833.4222 - val_score: 0.8079\n",
            "Epoch 87/150\n",
            "1079/1079 [==============================] - 1s 479us/step - loss: 200786864.4597 - score: 0.9630 - val_loss: 1288742372.5037 - val_score: 0.8178\n",
            "Epoch 88/150\n",
            "1079/1079 [==============================] - 1s 489us/step - loss: 260748829.9240 - score: 0.9496 - val_loss: 1300304871.3481 - val_score: 0.8132\n",
            "Epoch 89/150\n",
            "1079/1079 [==============================] - 1s 479us/step - loss: 267408996.7896 - score: 0.9478 - val_loss: 1342480368.8296 - val_score: 0.8124\n",
            "Epoch 90/150\n",
            "1079/1079 [==============================] - 1s 479us/step - loss: 224033254.8508 - score: 0.9517 - val_loss: 1324982601.0074 - val_score: 0.8183\n",
            "Epoch 91/150\n",
            "1079/1079 [==============================] - 1s 477us/step - loss: 238993414.0056 - score: 0.9540 - val_loss: 1543185016.4148 - val_score: 0.7939\n",
            "Epoch 92/150\n",
            "1079/1079 [==============================] - 1s 482us/step - loss: 253499339.4773 - score: 0.9528 - val_loss: 1457656725.8074 - val_score: 0.8028\n",
            "Epoch 93/150\n",
            "1079/1079 [==============================] - 1s 478us/step - loss: 255475404.1149 - score: 0.9493 - val_loss: 1438758782.1037 - val_score: 0.8056\n",
            "Epoch 94/150\n",
            "1079/1079 [==============================] - 1s 482us/step - loss: 240255024.2521 - score: 0.9525 - val_loss: 1330359723.6148 - val_score: 0.8156\n",
            "Epoch 95/150\n",
            "1079/1079 [==============================] - 1s 474us/step - loss: 246242646.0204 - score: 0.9501 - val_loss: 1637550241.1852 - val_score: 0.7822\n",
            "Epoch 96/150\n",
            "1079/1079 [==============================] - 1s 485us/step - loss: 258180033.8091 - score: 0.9522 - val_loss: 1359088778.4296 - val_score: 0.8131\n",
            "Epoch 97/150\n",
            "1079/1079 [==============================] - 1s 479us/step - loss: 249240885.7386 - score: 0.9530 - val_loss: 1359605934.4593 - val_score: 0.8162\n",
            "Epoch 98/150\n",
            "1079/1079 [==============================] - 1s 493us/step - loss: 239462199.2067 - score: 0.9530 - val_loss: 1331911531.1407 - val_score: 0.8201\n",
            "Epoch 99/150\n",
            "1079/1079 [==============================] - 1s 493us/step - loss: 233304324.5375 - score: 0.9574 - val_loss: 1323767829.8074 - val_score: 0.8047\n",
            "Epoch 100/150\n",
            "1079/1079 [==============================] - 1s 484us/step - loss: 257470494.3095 - score: 0.9506 - val_loss: 1387534006.0444 - val_score: 0.8117\n",
            "Epoch 101/150\n",
            "1079/1079 [==============================] - 1s 487us/step - loss: 257109861.4866 - score: 0.9541 - val_loss: 1719269764.7407 - val_score: 0.7674\n",
            "Epoch 102/150\n",
            "1079/1079 [==============================] - 1s 475us/step - loss: 238380652.5449 - score: 0.9508 - val_loss: 1308409627.0222 - val_score: 0.8139\n",
            "Epoch 103/150\n",
            "1079/1079 [==============================] - 1s 482us/step - loss: 260531666.8916 - score: 0.9497 - val_loss: 1320300530.2519 - val_score: 0.8064\n",
            "Epoch 104/150\n",
            "1079/1079 [==============================] - 1s 475us/step - loss: 242220183.0584 - score: 0.9548 - val_loss: 1300131323.2593 - val_score: 0.8241\n",
            "Epoch 105/150\n",
            "1079/1079 [==============================] - 1s 484us/step - loss: 248101331.7220 - score: 0.9517 - val_loss: 1500357640.5333 - val_score: 0.7970\n",
            "Epoch 106/150\n",
            "1079/1079 [==============================] - 1s 475us/step - loss: 252442622.9323 - score: 0.9508 - val_loss: 1331572041.9556 - val_score: 0.8226\n",
            "Epoch 107/150\n",
            "1079/1079 [==============================] - 1s 480us/step - loss: 235808286.9472 - score: 0.9541 - val_loss: 1315769051.0222 - val_score: 0.8155\n",
            "Epoch 108/150\n",
            "1079/1079 [==============================] - 1s 476us/step - loss: 263551324.4115 - score: 0.9495 - val_loss: 1391419619.5556 - val_score: 0.8118\n",
            "Epoch 109/150\n",
            "1079/1079 [==============================] - 1s 479us/step - loss: 253433293.3160 - score: 0.9507 - val_loss: 1322943060.3852 - val_score: 0.8207\n",
            "Epoch 110/150\n",
            "1079/1079 [==============================] - 1s 476us/step - loss: 244272008.5857 - score: 0.9533 - val_loss: 1226233255.8222 - val_score: 0.8192\n",
            "Epoch 111/150\n",
            "1079/1079 [==============================] - 1s 488us/step - loss: 231222869.5607 - score: 0.9577 - val_loss: 1440712232.7704 - val_score: 0.8055\n",
            "Epoch 112/150\n",
            "1079/1079 [==============================] - 1s 475us/step - loss: 228777761.9425 - score: 0.9562 - val_loss: 1325389746.2519 - val_score: 0.8167\n",
            "Epoch 113/150\n",
            "1079/1079 [==============================] - 1s 482us/step - loss: 239646524.4263 - score: 0.9512 - val_loss: 1379102627.0815 - val_score: 0.8107\n",
            "Epoch 114/150\n",
            "1079/1079 [==============================] - 1s 479us/step - loss: 232120708.8638 - score: 0.9523 - val_loss: 1356809539.3185 - val_score: 0.8100\n",
            "Epoch 115/150\n",
            "1079/1079 [==============================] - 1s 483us/step - loss: 230460914.8619 - score: 0.9561 - val_loss: 1643132177.0667 - val_score: 0.7741\n",
            "Epoch 116/150\n",
            "1079/1079 [==============================] - 1s 478us/step - loss: 231499674.6321 - score: 0.9539 - val_loss: 1647621943.9407 - val_score: 0.7655\n",
            "Epoch 117/150\n",
            "1079/1079 [==============================] - 1s 479us/step - loss: 256441930.9138 - score: 0.9521 - val_loss: 1596550676.8593 - val_score: 0.7823\n",
            "Epoch 118/150\n",
            "1079/1079 [==============================] - 1s 473us/step - loss: 253046678.5246 - score: 0.9517 - val_loss: 1412404891.4963 - val_score: 0.8072\n",
            "Epoch 119/150\n",
            "1079/1079 [==============================] - 1s 489us/step - loss: 275001030.0056 - score: 0.9462 - val_loss: 1365899082.9037 - val_score: 0.8108\n",
            "Epoch 120/150\n",
            "1079/1079 [==============================] - 1s 478us/step - loss: 253082468.5672 - score: 0.9487 - val_loss: 1367948488.0593 - val_score: 0.8101\n",
            "Epoch 121/150\n",
            "1079/1079 [==============================] - 1s 481us/step - loss: 234239864.4968 - score: 0.9572 - val_loss: 1393491343.1704 - val_score: 0.7999\n",
            "Epoch 122/150\n",
            "1079/1079 [==============================] - 1s 475us/step - loss: 225981547.5811 - score: 0.9499 - val_loss: 1284928156.4444 - val_score: 0.8214\n",
            "Epoch 123/150\n",
            "1079/1079 [==============================] - 1s 484us/step - loss: 263811698.1798 - score: 0.9510 - val_loss: 1685665033.4815 - val_score: 0.7668\n",
            "Epoch 124/150\n",
            "1079/1079 [==============================] - 1s 475us/step - loss: 221831592.2669 - score: 0.9572 - val_loss: 1448351519.2889 - val_score: 0.8020\n",
            "Epoch 125/150\n",
            "1079/1079 [==============================] - 1s 481us/step - loss: 254671089.9425 - score: 0.9534 - val_loss: 1591143819.3778 - val_score: 0.7847\n",
            "Epoch 126/150\n",
            "1079/1079 [==============================] - 1s 478us/step - loss: 240947008.6821 - score: 0.9552 - val_loss: 1380126796.8000 - val_score: 0.8159\n",
            "Epoch 127/150\n",
            "1079/1079 [==============================] - 1s 477us/step - loss: 255867430.3170 - score: 0.9464 - val_loss: 1636102966.9926 - val_score: 0.7772\n",
            "Epoch 128/150\n",
            "1079/1079 [==============================] - 1s 477us/step - loss: 239850381.3902 - score: 0.9551 - val_loss: 1498545337.8370 - val_score: 0.7977\n",
            "Epoch 129/150\n",
            "1079/1079 [==============================] - 1s 482us/step - loss: 247607635.3513 - score: 0.9515 - val_loss: 1370003594.4296 - val_score: 0.8119\n",
            "Epoch 130/150\n",
            "1079/1079 [==============================] - 1s 478us/step - loss: 235664873.6089 - score: 0.9559 - val_loss: 1363908059.0222 - val_score: 0.8158\n",
            "Epoch 131/150\n",
            "1079/1079 [==============================] - 1s 477us/step - loss: 237105180.3522 - score: 0.9515 - val_loss: 1710587636.6222 - val_score: 0.7664\n",
            "Epoch 132/150\n",
            "1079/1079 [==============================] - 1s 474us/step - loss: 229999554.5505 - score: 0.9550 - val_loss: 1310491025.0667 - val_score: 0.8165\n",
            "Epoch 133/150\n",
            "1079/1079 [==============================] - 1s 481us/step - loss: 220143792.6895 - score: 0.9588 - val_loss: 1501551705.1259 - val_score: 0.7950\n",
            "Epoch 134/150\n",
            "1079/1079 [==============================] - 1s 480us/step - loss: 249604168.6747 - score: 0.9540 - val_loss: 1477240508.6815 - val_score: 0.8010\n",
            "Epoch 135/150\n",
            "1079/1079 [==============================] - 1s 481us/step - loss: 233062012.8267 - score: 0.9571 - val_loss: 1459835721.9556 - val_score: 0.7980\n",
            "Epoch 136/150\n",
            "1079/1079 [==============================] - 1s 502us/step - loss: 275870609.7053 - score: 0.9480 - val_loss: 1704824877.5111 - val_score: 0.7613\n",
            "Epoch 137/150\n",
            "1079/1079 [==============================] - 1s 488us/step - loss: 241689301.0639 - score: 0.9533 - val_loss: 1325794299.2593 - val_score: 0.8155\n",
            "Epoch 138/150\n",
            "1079/1079 [==============================] - 1s 482us/step - loss: 271185086.5468 - score: 0.9488 - val_loss: 1466601532.6815 - val_score: 0.8043\n",
            "Epoch 139/150\n",
            "1079/1079 [==============================] - 1s 488us/step - loss: 251777421.2864 - score: 0.9481 - val_loss: 1460152465.5407 - val_score: 0.7824\n",
            "Epoch 140/150\n",
            "1079/1079 [==============================] - 1s 481us/step - loss: 247518156.9527 - score: 0.9522 - val_loss: 1390936971.3778 - val_score: 0.8099\n",
            "Epoch 141/150\n",
            "1079/1079 [==============================] - 1s 480us/step - loss: 235879350.7173 - score: 0.9516 - val_loss: 1396397873.3037 - val_score: 0.8072\n",
            "Epoch 142/150\n",
            "1079/1079 [==============================] - 1s 472us/step - loss: 246386819.2326 - score: 0.9493 - val_loss: 1332412617.9556 - val_score: 0.8073\n",
            "Epoch 143/150\n",
            "1079/1079 [==============================] - 1s 485us/step - loss: 224799336.3781 - score: 0.9543 - val_loss: 1473581482.6667 - val_score: 0.7983\n",
            "Epoch 144/150\n",
            "1079/1079 [==============================] - 1s 476us/step - loss: 202204789.5755 - score: 0.9605 - val_loss: 1600901988.5037 - val_score: 0.7827\n",
            "Epoch 145/150\n",
            "1079/1079 [==============================] - 1s 479us/step - loss: 268977115.3438 - score: 0.9490 - val_loss: 1648017194.6667 - val_score: 0.7749\n",
            "Epoch 146/150\n",
            "1079/1079 [==============================] - 1s 472us/step - loss: 266529737.7572 - score: 0.9507 - val_loss: 1476624018.0148 - val_score: 0.8047\n",
            "Epoch 147/150\n",
            "1079/1079 [==============================] - 1s 487us/step - loss: 223533285.3086 - score: 0.9565 - val_loss: 1341049858.8444 - val_score: 0.8035\n",
            "Epoch 148/150\n",
            "1079/1079 [==============================] - 1s 471us/step - loss: 245810978.0908 - score: 0.9528 - val_loss: 1534970376.5333 - val_score: 0.7889\n",
            "Epoch 149/150\n",
            "1079/1079 [==============================] - 1s 484us/step - loss: 231054094.9768 - score: 0.9572 - val_loss: 1624555432.7704 - val_score: 0.7802\n",
            "Epoch 150/150\n",
            "1079/1079 [==============================] - 1s 475us/step - loss: 246451060.7451 - score: 0.9529 - val_loss: 1388575417.8370 - val_score: 0.8082\n"
          ],
          "name": "stdout"
        }
      ]
    },
    {
      "cell_type": "code",
      "metadata": {
        "id": "93bSA1MuAeRX",
        "colab_type": "code",
        "colab": {
          "base_uri": "https://localhost:8080/",
          "height": 87
        },
        "outputId": "def673de-c7a8-4710-d1e7-a95232cfb878"
      },
      "source": [
        "model.evaluate(X_test, y_test), model.evaluate(X_train, y_train)"
      ],
      "execution_count": 348,
      "outputs": [
        {
          "output_type": "stream",
          "text": [
            "270/270 [==============================] - 0s 141us/step\n",
            "1079/1079 [==============================] - 0s 120us/step\n"
          ],
          "name": "stdout"
        },
        {
          "output_type": "execute_result",
          "data": {
            "text/plain": [
              "([1388575417.837037, 0.8082479980256823],\n",
              " [55744468.28544949, 0.9883254322881937])"
            ]
          },
          "metadata": {
            "tags": []
          },
          "execution_count": 348
        }
      ]
    },
    {
      "cell_type": "code",
      "metadata": {
        "id": "28Rh-7QkGzoU",
        "colab_type": "code",
        "colab": {
          "base_uri": "https://localhost:8080/",
          "height": 294
        },
        "outputId": "102b3814-672c-466c-b67f-b24672e6c4df"
      },
      "source": [
        "iterations = range(150)\n",
        "plt.plot(iterations, history.history['val_loss'], c='b')\n",
        "plt.plot(iterations, history.history['loss'], c='r')"
      ],
      "execution_count": 350,
      "outputs": [
        {
          "output_type": "execute_result",
          "data": {
            "text/plain": [
              "[<matplotlib.lines.Line2D at 0x7fd3c878c828>]"
            ]
          },
          "metadata": {
            "tags": []
          },
          "execution_count": 350
        },
        {
          "output_type": "display_data",
          "data": {
            "image/png": "[encoded data removed]",
            "text/plain": [
              "<Figure size 432x288 with 1 Axes>"
            ]
          },
          "metadata": {
            "tags": []
          }
        }
      ]
    },
    {
      "cell_type": "code",
      "metadata": {
        "id": "GQkbdExeYkKO",
        "colab_type": "code",
        "colab": {
          "base_uri": "https://localhost:8080/",
          "height": 286
        },
        "outputId": "49e6bdb2-b9bd-4ce0-8136-722b8c7f9f94"
      },
      "source": [
        "plt.plot(iterations, history.history['val_score'], c='b')\n",
        "plt.plot(iterations, history.history['score'], c='r')\n",
        "plt.axis([0, 151, 0.5, 1])"
      ],
      "execution_count": 352,
      "outputs": [
        {
          "output_type": "execute_result",
          "data": {
            "text/plain": [
              "[0, 151, 0.5, 1]"
            ]
          },
          "metadata": {
            "tags": []
          },
          "execution_count": 352
        },
        {
          "output_type": "display_data",
          "data": {
            "image/png": "[encoded data removed]",
            "text/plain": [
              "<Figure size 432x288 with 1 Axes>"
            ]
          },
          "metadata": {
            "tags": []
          }
        }
      ]
    },
    {
      "cell_type": "code",
      "metadata": {
        "id": "6BdOSWiAZT5j",
        "colab_type": "code",
        "colab": {}
      },
      "source": [
        ""
      ],
      "execution_count": 0,
      "outputs": []
    }
  ]
}